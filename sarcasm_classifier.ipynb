{
 "cells": [
  {
   "attachments": {},
   "cell_type": "markdown",
   "metadata": {},
   "source": [
    "#### Classifying news headlines"
   ]
  },
  {
   "cell_type": "code",
   "execution_count": 2,
   "metadata": {},
   "outputs": [],
   "source": [
    "import numpy as np\n",
    "import tensorflow as tf\n",
    "from tensorflow.keras.preprocessing.text import Tokenizer\n",
    "from tensorflow.keras.preprocessing.sequence import pad_sequences"
   ]
  },
  {
   "cell_type": "code",
   "execution_count": 3,
   "metadata": {},
   "outputs": [
    {
     "name": "stderr",
     "output_type": "stream",
     "text": [
      "'wget' is not recognized as an internal or external command,\n",
      "operable program or batch file.\n"
     ]
    }
   ],
   "source": [
    "!wget --no-check-certificate \\\n",
    "    https://storage.googleapis.com/wdd-2-node.appspot.com/x1.json \\\n",
    "    -o /tmp/headlines.json"
   ]
  },
  {
   "cell_type": "code",
   "execution_count": 8,
   "metadata": {},
   "outputs": [
    {
     "data": {
      "text/html": [
       "<div>\n",
       "<style scoped>\n",
       "    .dataframe tbody tr th:only-of-type {\n",
       "        vertical-align: middle;\n",
       "    }\n",
       "\n",
       "    .dataframe tbody tr th {\n",
       "        vertical-align: top;\n",
       "    }\n",
       "\n",
       "    .dataframe thead th {\n",
       "        text-align: right;\n",
       "    }\n",
       "</style>\n",
       "<table border=\"1\" class=\"dataframe\">\n",
       "  <thead>\n",
       "    <tr style=\"text-align: right;\">\n",
       "      <th></th>\n",
       "      <th>is_sarcastic</th>\n",
       "      <th>headline</th>\n",
       "      <th>article_link</th>\n",
       "    </tr>\n",
       "  </thead>\n",
       "  <tbody>\n",
       "    <tr>\n",
       "      <th>0</th>\n",
       "      <td>1</td>\n",
       "      <td>thirtysomething scientists unveil doomsday clo...</td>\n",
       "      <td>https://www.theonion.com/thirtysomething-scien...</td>\n",
       "    </tr>\n",
       "    <tr>\n",
       "      <th>1</th>\n",
       "      <td>0</td>\n",
       "      <td>dem rep. totally nails why congress is falling...</td>\n",
       "      <td>https://www.huffingtonpost.com/entry/donna-edw...</td>\n",
       "    </tr>\n",
       "    <tr>\n",
       "      <th>2</th>\n",
       "      <td>0</td>\n",
       "      <td>eat your veggies: 9 deliciously different recipes</td>\n",
       "      <td>https://www.huffingtonpost.com/entry/eat-your-...</td>\n",
       "    </tr>\n",
       "    <tr>\n",
       "      <th>3</th>\n",
       "      <td>1</td>\n",
       "      <td>inclement weather prevents liar from getting t...</td>\n",
       "      <td>https://local.theonion.com/inclement-weather-p...</td>\n",
       "    </tr>\n",
       "    <tr>\n",
       "      <th>4</th>\n",
       "      <td>1</td>\n",
       "      <td>mother comes pretty close to using word 'strea...</td>\n",
       "      <td>https://www.theonion.com/mother-comes-pretty-c...</td>\n",
       "    </tr>\n",
       "  </tbody>\n",
       "</table>\n",
       "</div>"
      ],
      "text/plain": [
       "   is_sarcastic  ...                                       article_link\n",
       "0             1  ...  https://www.theonion.com/thirtysomething-scien...\n",
       "1             0  ...  https://www.huffingtonpost.com/entry/donna-edw...\n",
       "2             0  ...  https://www.huffingtonpost.com/entry/eat-your-...\n",
       "3             1  ...  https://local.theonion.com/inclement-weather-p...\n",
       "4             1  ...  https://www.theonion.com/mother-comes-pretty-c...\n",
       "\n",
       "[5 rows x 3 columns]"
      ]
     },
     "execution_count": 8,
     "metadata": {},
     "output_type": "execute_result"
    }
   ],
   "source": [
    "## read json data\n",
    "import pandas as pd\n",
    "\n",
    "data = pd.read_json(\"x1.json\")\n",
    "data.head()"
   ]
  },
  {
   "cell_type": "code",
   "execution_count": 9,
   "metadata": {},
   "outputs": [],
   "source": [
    "## store headlines and labels in respective lists\n",
    "headlines = list(data['headline'])\n",
    "labels = list(data['is_sarcastic'])"
   ]
  },
  {
   "attachments": {},
   "cell_type": "markdown",
   "metadata": {},
   "source": [
    "#### Set parameters"
   ]
  },
  {
   "cell_type": "code",
   "execution_count": 11,
   "metadata": {},
   "outputs": [],
   "source": [
    "vocab_size = 10000\n",
    "max_length = 120\n",
    "embedding_dim = 16\n",
    "trunc_type = 'post'\n",
    "padding_type = 'post'\n",
    "oov_tok = \"<OOV>\"\n",
    "training_size = 20000"
   ]
  },
  {
   "attachments": {},
   "cell_type": "markdown",
   "metadata": {},
   "source": [
    "#### Splitting the training and testing set"
   ]
  },
  {
   "cell_type": "code",
   "execution_count": 12,
   "metadata": {},
   "outputs": [],
   "source": [
    "training_sentences = headlines[0:training_size]\n",
    "testing_sentences = headlines[training_size:]\n",
    "\n",
    "#labels\n",
    "training_labels = labels[0:training_size]\n",
    "testing_labels = labels[training_size:]"
   ]
  },
  {
   "attachments": {},
   "cell_type": "markdown",
   "metadata": {},
   "source": [
    "#### Preprocess sentences"
   ]
  },
  {
   "cell_type": "code",
   "execution_count": 14,
   "metadata": {},
   "outputs": [],
   "source": [
    "tokenizer = Tokenizer(num_words=vocab_size, oov_token=oov_tok)\n",
    "tokenizer.fit_on_texts(training_sentences)\n",
    "\n",
    "word_index = tokenizer.word_index\n",
    "\n",
    "training_seqs = tokenizer.texts_to_sequences(training_sentences)\n",
    "training_padded = pad_sequences(training_seqs, maxlen=max_length, padding=padding_type, truncating=trunc_type)\n",
    "\n",
    "testing_seqs = tokenizer.texts_to_sequences(testing_sentences)\n",
    "testing_padded = pad_sequences(testing_seqs, maxlen=max_length, padding=padding_type, truncating=trunc_type)"
   ]
  },
  {
   "cell_type": "code",
   "execution_count": 15,
   "metadata": {},
   "outputs": [],
   "source": [
    "# Convert to lists to numpy array\n",
    "\n",
    "training_padded = np.array(training_padded)\n",
    "training_labels = np.array(training_labels)\n",
    "testing_padded = np.array(testing_padded)\n",
    "testing_labels = np.array(testing_labels)"
   ]
  },
  {
   "attachments": {},
   "cell_type": "markdown",
   "metadata": {},
   "source": [
    "#### Define the neural network model with following layers\n",
    "\n",
    "1. Embedding\n",
    "2. Global Average Pooling(1D)\n",
    "3. Dense layer with 24 nodes\n",
    "4. Output dense layer with sigmoid activation"
   ]
  },
  {
   "cell_type": "code",
   "execution_count": 18,
   "metadata": {},
   "outputs": [
    {
     "name": "stdout",
     "output_type": "stream",
     "text": [
      "Model: \"sequential\"\n",
      "_________________________________________________________________\n",
      " Layer (type)                Output Shape              Param #   \n",
      "=================================================================\n",
      " embedding (Embedding)       (None, 120, 16)           160000    \n",
      "                                                                 \n",
      " global_average_pooling1d (G  (None, 16)               0         \n",
      " lobalAveragePooling1D)                                          \n",
      "                                                                 \n",
      " dense (Dense)               (None, 24)                408       \n",
      "                                                                 \n",
      " dense_1 (Dense)             (None, 1)                 25        \n",
      "                                                                 \n",
      "=================================================================\n",
      "Total params: 160,433\n",
      "Trainable params: 160,433\n",
      "Non-trainable params: 0\n",
      "_________________________________________________________________\n"
     ]
    }
   ],
   "source": [
    "model = tf.keras.Sequential([\n",
    "    tf.keras.layers.Embedding(vocab_size, embedding_dim, input_length=max_length),\n",
    "    tf.keras.layers.GlobalAveragePooling1D(),\n",
    "    tf.keras.layers.Dense(24, activation='relu'),\n",
    "    tf.keras.layers.Dense(1, activation='sigmoid')\n",
    "])\n",
    "model.compile(loss='binary_crossentropy', optimizer='adam', metrics=['accuracy'])\n",
    "model.summary()"
   ]
  },
  {
   "cell_type": "code",
   "execution_count": 19,
   "metadata": {},
   "outputs": [
    {
     "name": "stdout",
     "output_type": "stream",
     "text": [
      "Epoch 1/30\n",
      "625/625 [==============================] - 3s 3ms/step - loss: 0.6620 - accuracy: 0.5982 - val_loss: 0.5544 - val_accuracy: 0.8055\n",
      "Epoch 2/30\n",
      "625/625 [==============================] - 2s 3ms/step - loss: 0.4244 - accuracy: 0.8320 - val_loss: 0.3907 - val_accuracy: 0.8240\n",
      "Epoch 3/30\n",
      "625/625 [==============================] - 2s 3ms/step - loss: 0.3184 - accuracy: 0.8702 - val_loss: 0.3536 - val_accuracy: 0.8433\n",
      "Epoch 4/30\n",
      "625/625 [==============================] - 2s 3ms/step - loss: 0.2671 - accuracy: 0.8947 - val_loss: 0.3333 - val_accuracy: 0.8562\n",
      "Epoch 5/30\n",
      "625/625 [==============================] - 2s 3ms/step - loss: 0.2324 - accuracy: 0.9098 - val_loss: 0.3322 - val_accuracy: 0.8556\n",
      "Epoch 6/30\n",
      "625/625 [==============================] - 3s 4ms/step - loss: 0.2053 - accuracy: 0.9225 - val_loss: 0.3561 - val_accuracy: 0.8478\n",
      "Epoch 7/30\n",
      "625/625 [==============================] - 2s 4ms/step - loss: 0.1827 - accuracy: 0.9323 - val_loss: 0.3512 - val_accuracy: 0.8507\n",
      "Epoch 8/30\n",
      "625/625 [==============================] - 3s 5ms/step - loss: 0.1631 - accuracy: 0.9406 - val_loss: 0.3637 - val_accuracy: 0.8484\n",
      "Epoch 9/30\n",
      "625/625 [==============================] - 9s 14ms/step - loss: 0.1487 - accuracy: 0.9462 - val_loss: 0.3782 - val_accuracy: 0.8494\n",
      "Epoch 10/30\n",
      "625/625 [==============================] - 4s 6ms/step - loss: 0.1358 - accuracy: 0.9518 - val_loss: 0.4032 - val_accuracy: 0.8434\n",
      "Epoch 11/30\n",
      "625/625 [==============================] - 3s 5ms/step - loss: 0.1271 - accuracy: 0.9548 - val_loss: 0.4164 - val_accuracy: 0.8428\n",
      "Epoch 12/30\n",
      "625/625 [==============================] - 3s 4ms/step - loss: 0.1142 - accuracy: 0.9599 - val_loss: 0.4385 - val_accuracy: 0.8386\n",
      "Epoch 13/30\n",
      "625/625 [==============================] - 3s 5ms/step - loss: 0.1053 - accuracy: 0.9635 - val_loss: 0.4672 - val_accuracy: 0.8346\n",
      "Epoch 14/30\n",
      "625/625 [==============================] - 3s 4ms/step - loss: 0.0973 - accuracy: 0.9668 - val_loss: 0.4933 - val_accuracy: 0.8326\n",
      "Epoch 15/30\n",
      "625/625 [==============================] - 2s 4ms/step - loss: 0.0889 - accuracy: 0.9704 - val_loss: 0.5179 - val_accuracy: 0.8312\n",
      "Epoch 16/30\n",
      "625/625 [==============================] - 3s 4ms/step - loss: 0.0822 - accuracy: 0.9736 - val_loss: 0.5523 - val_accuracy: 0.8284\n",
      "Epoch 17/30\n",
      "625/625 [==============================] - 3s 5ms/step - loss: 0.0770 - accuracy: 0.9748 - val_loss: 0.5802 - val_accuracy: 0.8258\n",
      "Epoch 18/30\n",
      "625/625 [==============================] - 3s 4ms/step - loss: 0.0710 - accuracy: 0.9771 - val_loss: 0.6114 - val_accuracy: 0.8255\n",
      "Epoch 19/30\n",
      "625/625 [==============================] - 3s 5ms/step - loss: 0.0649 - accuracy: 0.9795 - val_loss: 0.6472 - val_accuracy: 0.8225\n",
      "Epoch 20/30\n",
      "625/625 [==============================] - 3s 5ms/step - loss: 0.0612 - accuracy: 0.9801 - val_loss: 0.6794 - val_accuracy: 0.8216\n",
      "Epoch 21/30\n",
      "625/625 [==============================] - 3s 4ms/step - loss: 0.0564 - accuracy: 0.9829 - val_loss: 0.7283 - val_accuracy: 0.8187\n",
      "Epoch 22/30\n",
      "625/625 [==============================] - 3s 4ms/step - loss: 0.0515 - accuracy: 0.9845 - val_loss: 0.7657 - val_accuracy: 0.8190\n",
      "Epoch 23/30\n",
      "625/625 [==============================] - 3s 5ms/step - loss: 0.0472 - accuracy: 0.9864 - val_loss: 0.7887 - val_accuracy: 0.8181\n",
      "Epoch 24/30\n",
      "625/625 [==============================] - 3s 4ms/step - loss: 0.0452 - accuracy: 0.9862 - val_loss: 0.8444 - val_accuracy: 0.8145\n",
      "Epoch 25/30\n",
      "625/625 [==============================] - 2s 4ms/step - loss: 0.0406 - accuracy: 0.9882 - val_loss: 0.9069 - val_accuracy: 0.8136\n",
      "Epoch 26/30\n",
      "625/625 [==============================] - 3s 4ms/step - loss: 0.0420 - accuracy: 0.9876 - val_loss: 0.9161 - val_accuracy: 0.8122\n",
      "Epoch 27/30\n",
      "625/625 [==============================] - 2s 4ms/step - loss: 0.0357 - accuracy: 0.9894 - val_loss: 0.9740 - val_accuracy: 0.8108\n",
      "Epoch 28/30\n",
      "625/625 [==============================] - 3s 4ms/step - loss: 0.0322 - accuracy: 0.9913 - val_loss: 1.0483 - val_accuracy: 0.8059\n",
      "Epoch 29/30\n",
      "625/625 [==============================] - 3s 4ms/step - loss: 0.0302 - accuracy: 0.9915 - val_loss: 1.0473 - val_accuracy: 0.8089\n",
      "Epoch 30/30\n",
      "625/625 [==============================] - 3s 4ms/step - loss: 0.0276 - accuracy: 0.9926 - val_loss: 1.0792 - val_accuracy: 0.8075\n"
     ]
    }
   ],
   "source": [
    "# Train the model\n",
    "num_epochs = 30\n",
    "history = model.fit(training_padded, training_labels, epochs=num_epochs, validation_data=(testing_padded, testing_labels))"
   ]
  },
  {
   "attachments": {},
   "cell_type": "markdown",
   "metadata": {},
   "source": [
    "#### Visualize the train & validation accuracy and loss"
   ]
  },
  {
   "cell_type": "code",
   "execution_count": 24,
   "metadata": {},
   "outputs": [
    {
     "data": {
      "image/png": "[encoded data removed]",
      "text/plain": [
       "<Figure size 640x480 with 1 Axes>"
      ]
     },
     "metadata": {},
     "output_type": "display_data"
    },
    {
     "data": {
      "image/png": "[encoded data removed]",
      "text/plain": [
       "<Figure size 640x480 with 1 Axes>"
      ]
     },
     "metadata": {},
     "output_type": "display_data"
    }
   ],
   "source": [
    "import matplotlib.pyplot as plt\n",
    "\n",
    "#plot scores\n",
    "def plot_graphs(history, string):\n",
    "    plt.plot(history.history[string])\n",
    "    plt.plot(history.history['val_'+string])\n",
    "    plt.legend([string, 'val_'+string])\n",
    "    plt.xlabel('Epochs')\n",
    "    plt.ylabel(string)\n",
    "    plt.show()\n",
    "\n",
    "plot_graphs(history, 'accuracy')\n",
    "plot_graphs(history, \"loss\")"
   ]
  },
  {
   "attachments": {},
   "cell_type": "markdown",
   "metadata": {},
   "source": [
    "#### Clasify a new sentence based on this model"
   ]
  },
  {
   "cell_type": "code",
   "execution_count": 26,
   "metadata": {},
   "outputs": [
    {
     "name": "stdout",
     "output_type": "stream",
     "text": [
      "1/1 [==============================] - 0s 96ms/step\n",
      "[[4.924646e-07]\n",
      " [3.214160e-08]]\n"
     ]
    }
   ],
   "source": [
    "sentence = [\"The baby boy fears spiders in the garden might be real\", \"game of thrones season finale showing this sunday night\"]\n",
    "\n",
    "## prepare the sequences of the sentences in question\n",
    "sequences = tokenizer.texts_to_sequences(sentence)\n",
    "padded_seqs = pad_sequences(sequences, maxlen=max_length, padding=padding_type, truncating=trunc_type)\n",
    "\n",
    "print(model.predict(padded_seqs))"
   ]
  },
  {
   "cell_type": "code",
   "execution_count": 28,
   "metadata": {},
   "outputs": [
    {
     "name": "stdout",
     "output_type": "stream",
     "text": [
      "1/1 [==============================] - 0s 29ms/step\n",
      "[[0.99557257]]\n"
     ]
    }
   ],
   "source": [
    "sentence = [\"Police Begin Campaign to Run Down Jaywalkers\"]\n",
    "## prepare the sequences of the sentences in question\n",
    "sequences = tokenizer.texts_to_sequences(sentence)\n",
    "padded_seqs = pad_sequences(sequences, maxlen=max_length, padding=padding_type, truncating=trunc_type)\n",
    "print(model.predict(padded_seqs))"
   ]
  }
 ],
 "metadata": {
  "kernelspec": {
   "display_name": "Python 3",
   "language": "python",
   "name": "python3"
  },
  "language_info": {
   "codemirror_mode": {
    "name": "ipython",
    "version": 3
   },
   "file_extension": ".py",
   "mimetype": "text/x-python",
   "name": "python",
   "nbconvert_exporter": "python",
   "pygments_lexer": "ipython3",
   "version": "3.11.1"
  },
  "orig_nbformat": 4
 },
 "nbformat": 4,
 "nbformat_minor": 2
}
